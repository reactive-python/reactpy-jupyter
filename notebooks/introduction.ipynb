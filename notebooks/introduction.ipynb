{
 "cells": [
  {
   "cell_type": "markdown",
   "metadata": {},
   "source": [
    "# IDOM - A Brief Introduction\n",
    "\n",
    "IDOM is an easily installable and powerful Python package for:\n",
    "\n",
    "- Making responsive user interfaces with pure Python\n",
    "\n",
    "- Doing so with a declarative API based on React's Hooks\n",
    "\n",
    "- And rendering those layouts on the web or in Jupyter Notebooks\n",
    "\n",
    "This Notebook shows a basic example which is explained in more depth in IDOM's documentation where you can also find more examples.\n",
    "\n",
    "# Where Can You Learn More?\n",
    "\n",
    "Go to https://idom-docs.herokuapp.com/ for:\n",
    "\n",
    "- more documentation\n",
    "\n",
    "- installation instructions\n",
    "\n",
    "For trouble shooting and support:\n",
    "\n",
    "- https://github.com/idom-team/idom/issues/new/choose"
   ]
  },
  {
   "cell_type": "code",
   "execution_count": 1,
   "metadata": {},
   "outputs": [
    {
     "data": {
      "application/vnd.jupyter.widget-view+json": {
       "model_id": "9711ccbb663d4c159a235d60b8c671c5",
       "version_major": 2,
       "version_minor": 0
      },
      "text/plain": [
       "LayoutWidget(Layout(ClickCount(139731329088704)))"
      ]
     },
     "metadata": {},
     "output_type": "display_data"
    }
   ],
   "source": [
    "import idom\n",
    "import idom_jupyter\n",
    "\n",
    "\n",
    "@idom.component\n",
    "def ClickCount():\n",
    "    count, set_count = idom.hooks.use_state(0)\n",
    "    return idom.html.button(\n",
    "        {\"onClick\": lambda event: set_count(lambda old: old + 1)},\n",
    "        [f\"Click count: {count}\"],\n",
    "    )\n",
    "\n",
    "\n",
    "ClickCount()"
   ]
  },
  {
   "cell_type": "markdown",
   "metadata": {},
   "source": [
    "# Easy Javascript Integration\n",
    "\n",
    "So long as you have [NPM](https://www.npmjs.com/) installed you can dynamically install existing Javascript libraries:"
   ]
  },
  {
   "cell_type": "code",
   "execution_count": 2,
   "metadata": {},
   "outputs": [
    {
     "data": {
      "application/vnd.jupyter.widget-view+json": {
       "model_id": "8c9a9642ce564bac8f57b54c32301101",
       "version_major": 2,
       "version_minor": 0
      },
      "text/plain": [
       "LayoutWidget(Layout(VictoryBarElement(139730951084368)))"
      ]
     },
     "metadata": {},
     "output_type": "display_data"
    }
   ],
   "source": [
    "victory = idom.web.module_from_template(\"react\", \"victory\", fallback=\"...\")\n",
    "VictoryBar = idom.web.export(victory, \"VictoryBar\")\n",
    "\n",
    "\n",
    "@idom.component\n",
    "def VictoryBarElement():\n",
    "    return VictoryBar()\n",
    "\n",
    "\n",
    "VictoryBarElement()"
   ]
  },
  {
   "cell_type": "markdown",
   "metadata": {},
   "source": [
    "# More Examples\n",
    "\n",
    "Go to https://idom-docs.herokuapp.com/docs/examples.html to find more ways to use IDOM."
   ]
  },
  {
   "cell_type": "code",
   "execution_count": null,
   "metadata": {},
   "outputs": [],
   "source": []
  }
 ],
 "metadata": {
  "kernelspec": {
   "display_name": "Python 3",
   "language": "python",
   "name": "python3"
  },
  "language_info": {
   "codemirror_mode": {
    "name": "ipython",
    "version": 3
   },
   "file_extension": ".py",
   "mimetype": "text/x-python",
   "name": "python",
   "nbconvert_exporter": "python",
   "pygments_lexer": "ipython3",
   "version": "3.9.0"
  }
 },
 "nbformat": 4,
 "nbformat_minor": 4
}
