{
 "cells": [
  {
   "attachments": {},
   "cell_type": "markdown",
   "metadata": {},
   "source": [
    "# What is IDOM?\n",
    "\n",
    "IDOM is a Python web framework for building interactive websites **without needing a single line of Javascript**. This is accomplished by breaking down complex applications into nestable and reusable chunks of code called “components” that allow you to focus on what your application does rather than how it does it.\n",
    "\n",
    "Ecosystem independence is also a core feature of IDOM. It can be added to existing applications built on a variety of sync and async web servers, as well as integrated with other frameworks like Django, Jupyter, and Plotly Dash. Not only does this mean you’re free to choose what technology stack to run on, but on top of that, you can run the exact same components wherever you need them. For example, you can take a component originally developed in a Jupyter Notebook like this one, and embed it in your production application without changing anything about the component itself.\n",
    "\n",
    "\n",
    "# Getting Started\n",
    "\n",
    "The first thing we need must do in order to run IDOM in a Jupyter Notebook is install `idom_jupyter` Jupyter with PIP:\n",
    "\n",
    "```bash\n",
    "pip install idom-jupyter\n",
    "```\n",
    "\n",
    "Once this is done you'll be able to use IDOM components like any other [Jupyter Widget](https://ipywidgets.readthedocs.io/en/latest/#).\n",
    "\n",
    "# At a Glance\n",
    "\n",
    "To get a rough idea of how to write apps in IDOM, take a look at the tiny [“hello world”](https://en.wikipedia.org/wiki/%22Hello,_World!%22_program) application below:"
   ]
  },
  {
   "cell_type": "code",
   "execution_count": 1,
   "metadata": {},
   "outputs": [
    {
     "data": {
      "text/plain": [
       "App(7fe7b39a65c0)"
      ]
     },
     "execution_count": 1,
     "metadata": {},
     "output_type": "execute_result"
    }
   ],
   "source": [
    "from idom import component, html, run\n",
    "\n",
    "\n",
    "@component\n",
    "def App():\n",
    "    return html.h1(\"Hello, World!\")\n",
    "\n",
    "\n",
    "App()"
   ]
  },
  {
   "cell_type": "markdown",
   "metadata": {},
   "source": [
    "# Creating Interfaces\n",
    "\n",
    "IDOM is a Python package for making user interfaces (UI). These interfaces are built from small elements of functionality like buttons text and images. IDOM allows you to combine these elements into reusable “components”. Once you learn how these UI elements are created and organized into components you'll be able to do things like create interfaces from raw data:\n",
    "\n",
    "<a href=\"https://idom-docs.herokuapp.com/docs/creating-interfaces/index.html\" target=\"_blank\"><button>Read More!</button></a>"
   ]
  },
  {
   "cell_type": "code",
   "execution_count": null,
   "metadata": {},
   "outputs": [],
   "source": [
    "from idom import component, html\n",
    "\n",
    "\n",
    "@component\n",
    "def DataList(items, filter_by_priority=None, sort_by_priority=False):\n",
    "    if filter_by_priority is not None:\n",
    "        items = [i for i in items if i[\"priority\"] <= filter_by_priority]\n",
    "    if sort_by_priority:\n",
    "        items = list(sorted(items, key=lambda i: i[\"priority\"]))\n",
    "    list_item_elements = [html.li(i[\"text\"], key=i[\"id\"]) for i in items]\n",
    "    return html.ul(list_item_elements)\n",
    "\n",
    "\n",
    "@component\n",
    "def TodoList():\n",
    "    tasks = [\n",
    "        {\"id\": 0, \"text\": \"Make breakfast\", \"priority\": 0},\n",
    "        {\"id\": 1, \"text\": \"Feed the dog\", \"priority\": 0},\n",
    "        {\"id\": 2, \"text\": \"Do laundry\", \"priority\": 2},\n",
    "        {\"id\": 3, \"text\": \"Go on a run\", \"priority\": 1},\n",
    "        {\"id\": 4, \"text\": \"Clean the house\", \"priority\": 2},\n",
    "        {\"id\": 5, \"text\": \"Go to the grocery store\", \"priority\": 2},\n",
    "        {\"id\": 6, \"text\": \"Do some coding\", \"priority\": 1},\n",
    "        {\"id\": 7, \"text\": \"Read a book\", \"priority\": 1},\n",
    "    ]\n",
    "    return html.section(\n",
    "        html.h1(\"My Todo List\"),\n",
    "        DataList(tasks, filter_by_priority=1, sort_by_priority=True),\n",
    "    )\n",
    "\n",
    "\n",
    "TodoList()"
   ]
  },
  {
   "cell_type": "markdown",
   "metadata": {},
   "source": [
    "# Adding Interactivity\n",
    "\n",
    "Components often need to change what’s on the screen as a result of an interaction. For example, typing into the form should update the input field, clicking a “Comment” button should bring up a text input field, clicking “Buy” should put a product in the shopping cart. Components need to “remember” things like the current input value, the current image, the shopping cart. In IDOM, this kind of component-specific memory is created and updated with a “hook” called use_state() that creates a state variable and state setter respectively:\n",
    "\n",
    "<a href=\"https://idom-docs.herokuapp.com/docs/adding-interactivity/index.html\" target=\"_blank\"><button>Read More!</button></a>"
   ]
  },
  {
   "cell_type": "code",
   "execution_count": null,
   "metadata": {},
   "outputs": [],
   "source": [
    "import json\n",
    "from pathlib import Path\n",
    "\n",
    "from idom import component, use_state, html\n",
    "\n",
    "\n",
    "DATA_PATH = Path().parent / \"data\" / \"gallery-data.json\"\n",
    "sculpture_data = json.loads(DATA_PATH.read_text())\n",
    "\n",
    "\n",
    "@component\n",
    "def Gallery():\n",
    "    index, set_index = use_state(0)\n",
    "\n",
    "    def handle_click(event):\n",
    "        set_index(index + 1)\n",
    "\n",
    "    bounded_index = index % len(sculpture_data)\n",
    "    sculpture = sculpture_data[bounded_index]\n",
    "    alt = sculpture[\"alt\"]\n",
    "    artist = sculpture[\"artist\"]\n",
    "    description = sculpture[\"description\"]\n",
    "    name = sculpture[\"name\"]\n",
    "    url = sculpture[\"url\"]\n",
    "\n",
    "    return html.div(\n",
    "        html.button({\"onClick\": handle_click}, \"Next\"),\n",
    "        html.h2(name, \" by \", artist),\n",
    "        html.p(f\"({bounded_index + 1} or {len(sculpture_data)})\"),\n",
    "        html.img({\"src\": url, \"alt\": alt, \"style\": {\"height\": \"200px\"}}),\n",
    "        html.p(description),\n",
    "    )\n",
    "\n",
    "\n",
    "Gallery()"
   ]
  },
  {
   "cell_type": "markdown",
   "metadata": {},
   "source": [
    "# Javascript Integration\n",
    "\n",
    "While IDOM is a great tool for displaying HTML and responding to browser events with pure Python, there are other projects which already allow you to do this inside Jupyter Notebooks or in standard web apps. The real power of IDOM comes from its ability to seamlessly leverage the existing Javascript ecosystem:\n",
    "\n",
    "<a href=\"https://idom-docs.herokuapp.com/docs/guides/escape-hatches/javascript-components.html\" target=\"_blank\"><button>Read More!</button></a>"
   ]
  },
  {
   "cell_type": "code",
   "execution_count": null,
   "metadata": {},
   "outputs": [],
   "source": [
    "from idom import component, web\n",
    "\n",
    "\n",
    "victory = web.module_from_template(\"react\", \"victory-bar\", fallback=\"⌛\")\n",
    "VictoryBar = web.export(victory, \"VictoryBar\")\n",
    "\n",
    "\n",
    "@component\n",
    "def Demo():\n",
    "    bar_style = {\"parent\": {\"width\": \"500px\"}, \"data\": {\"fill\": \"royalblue\"}}\n",
    "    return VictoryBar({\"style\": bar_style})\n",
    "\n",
    "\n",
    "Demo()"
   ]
  },
  {
   "cell_type": "markdown",
   "metadata": {},
   "source": [
    "# [Learn More!](https://idom-docs.herokuapp.com)"
   ]
  }
 ],
 "metadata": {
  "kernelspec": {
   "display_name": "Python 3 (ipykernel)",
   "language": "python",
   "name": "python3"
  },
  "language_info": {
   "codemirror_mode": {
    "name": "ipython",
    "version": 3
   },
   "file_extension": ".py",
   "mimetype": "text/x-python",
   "name": "python",
   "nbconvert_exporter": "python",
   "pygments_lexer": "ipython3",
   "version": "3.10.6"
  },
  "vscode": {
   "interpreter": {
    "hash": "52bee9646c8f5526f0e9a8eb5a97552aae62c8d54f85864da3e91d79a91aa9b6"
   }
  }
 },
 "nbformat": 4,
 "nbformat_minor": 4
}
