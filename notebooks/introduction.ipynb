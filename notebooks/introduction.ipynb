{
 "cells": [
  {
   "cell_type": "markdown",
   "metadata": {},
   "source": [
    "# What is ReactPy?\n",
    "\n",
    "ReactPy connects your Python web framework of choice to a ReactJS frontend, allowing you to create **interactive websites without needing JavaScript!**\n",
    "\n",
    "Following ReactJS styling, web elements are combined into [reusable \"components\"](https://reactpy.dev/docs/guides/creating-interfaces/your-first-components/index.html#parametrizing-components). These components can utilize [hooks](https://reactpy.dev/docs/reference/hooks-api.html) and [events](https://reactpy.dev/docs/guides/adding-interactivity/responding-to-events/index.html#async-event-handlers) to create infinitely complex web pages.\n",
    "\n",
    "When needed, ReactPy can [use components directly from NPM](https://reactpy.dev/docs/guides/escape-hatches/javascript-components.html#dynamically-loaded-components). For additional flexibility, components can also be [fully developed in JavaScript](https://reactpy.dev/docs/guides/escape-hatches/javascript-components.html#custom-javascript-components).\n",
    "\n",
    "\n",
    "# Getting Started\n",
    "\n",
    "Then, before anything else, do one of the following:\n",
    "\n",
    "1. At the top of your notebook run\n",
    "\n",
    "   ```python\n",
    "   import reactpy_jupyter\n",
    "   ```\n",
    "\n",
    "2. Register `reactpy_jupyter` as a permanant IPython extension in [your config file](https://ipython.readthedocs.io/en/stable/config/intro.html#introduction-to-ipython-configuration):\n",
    "\n",
    "   ```python\n",
    "   c.InteractiveShellApp.extensions = ['reactpy_jupyter']\n",
    "   ```\n",
    "\n",
    "For the purposes of this tutorial, you'll want to do the first:"
   ]
  },
  {
   "cell_type": "code",
   "execution_count": null,
   "metadata": {
    "tags": []
   },
   "outputs": [],
   "source": [
    "import reactpy_jupyter"
   ]
  },
  {
   "cell_type": "markdown",
   "metadata": {},
   "source": [
    "# At a Glance\n",
    "\n",
    "To get a rough idea of how to write apps in ReactPy, take a look at the tiny [“hello world”](https://en.wikipedia.org/wiki/%22Hello,_World!%22_program) application below:"
   ]
  },
  {
   "cell_type": "code",
   "execution_count": null,
   "metadata": {
    "tags": []
   },
   "outputs": [],
   "source": [
    "from reactpy import component, html, run\n",
    "\n",
    "\n",
    "@component\n",
    "def App():\n",
    "    return html.h1(\"Hello, World!\")\n",
    "\n",
    "\n",
    "App()"
   ]
  },
  {
   "cell_type": "markdown",
   "metadata": {},
   "source": [
    "# Creating Interfaces\n",
    "\n",
    "ReactPy is a Python package for making user interfaces (UI). These interfaces are built from small elements of functionality like buttons text and images. ReactPy allows you to combine these elements into reusable “components”. Once you learn how these UI elements are created and organized into components you'll be able to do things like create interfaces from raw data:\n",
    "\n",
    "<a href=\"https://reactpy.dev/docs/guides/creating-interfaces/index.html\" target=\"_blank\"><button>Read More!</button></a>"
   ]
  },
  {
   "cell_type": "code",
   "execution_count": null,
   "metadata": {
    "tags": []
   },
   "outputs": [],
   "source": [
    "from reactpy import component, html\n",
    "\n",
    "\n",
    "@component\n",
    "def DataList(items, filter_by_priority=None, sort_by_priority=False):\n",
    "    if filter_by_priority is not None:\n",
    "        items = [i for i in items if i[\"priority\"] <= filter_by_priority]\n",
    "    if sort_by_priority:\n",
    "        items = list(sorted(items, key=lambda i: i[\"priority\"]))\n",
    "    list_item_elements = [html.li({\"key\": i[\"id\"]}, i[\"text\"]) for i in items]\n",
    "    return html.ul(list_item_elements)\n",
    "\n",
    "\n",
    "@component\n",
    "def TodoList():\n",
    "    tasks = [\n",
    "        {\"id\": 0, \"text\": \"Make breakfast\", \"priority\": 0},\n",
    "        {\"id\": 1, \"text\": \"Feed the dog\", \"priority\": 0},\n",
    "        {\"id\": 2, \"text\": \"Do laundry\", \"priority\": 2},\n",
    "        {\"id\": 3, \"text\": \"Go on a run\", \"priority\": 1},\n",
    "        {\"id\": 4, \"text\": \"Clean the house\", \"priority\": 2},\n",
    "        {\"id\": 5, \"text\": \"Go to the grocery store\", \"priority\": 2},\n",
    "        {\"id\": 6, \"text\": \"Do some coding\", \"priority\": 1},\n",
    "        {\"id\": 7, \"text\": \"Read a book\", \"priority\": 1},\n",
    "    ]\n",
    "    return html.section(\n",
    "        html.h1(\"My Todo List\"),\n",
    "        DataList(tasks, filter_by_priority=1, sort_by_priority=True),\n",
    "    )\n",
    "\n",
    "\n",
    "TodoList()"
   ]
  },
  {
   "cell_type": "markdown",
   "metadata": {},
   "source": [
    "# Adding Interactivity\n",
    "\n",
    "Components often need to change what’s on the screen as a result of an interaction. For example, typing into the form should update the input field, and clicking a “Comment” button should bring up a text input field, clicking “Buy” should put a product in the shopping cart. Components need to “remember” things like the current input value, the current image, and the shopping cart. In ReactPy, this kind of component-specific memory is created and updated with a “hook” called use_state() that creates a state variable and state setter respectively:\n",
    "\n",
    "<a href=\"https://reactpy.dev/docs/guides/adding-interactivity/index.html\" target=\"_blank\"><button>Read More!</button></a>"
   ]
  },
  {
   "cell_type": "code",
   "execution_count": null,
   "metadata": {
    "tags": []
   },
   "outputs": [],
   "source": [
    "import json\n",
    "from pathlib import Path\n",
    "\n",
    "from reactpy import component, use_state, html\n",
    "\n",
    "\n",
    "DATA_PATH = Path().parent / \"data\" / \"gallery-data.json\"\n",
    "sculpture_data = json.loads(DATA_PATH.read_text())\n",
    "\n",
    "\n",
    "@component\n",
    "def Gallery():\n",
    "    index, set_index = use_state(0)\n",
    "\n",
    "    def handle_click(event):\n",
    "        set_index(index + 1)\n",
    "\n",
    "    bounded_index = index % len(sculpture_data)\n",
    "    sculpture = sculpture_data[bounded_index]\n",
    "    alt = sculpture[\"alt\"]\n",
    "    artist = sculpture[\"artist\"]\n",
    "    description = sculpture[\"description\"]\n",
    "    name = sculpture[\"name\"]\n",
    "    url = sculpture[\"url\"]\n",
    "\n",
    "    return html.div(\n",
    "        html.button({\"onClick\": handle_click}, \"Next\"),\n",
    "        html.h2(name, \" by \", artist),\n",
    "        html.p(f\"({bounded_index + 1} or {len(sculpture_data)})\"),\n",
    "        html.img({\"src\": url, \"alt\": alt, \"style\": {\"height\": \"200px\"}}),\n",
    "        html.p(description),\n",
    "    )\n",
    "\n",
    "\n",
    "Gallery()"
   ]
  },
  {
   "cell_type": "markdown",
   "metadata": {},
   "source": [
    "# Using ReactPy With Jupyter Widgets\n",
    "\n",
    "While you can use ReactPy components independently, it may also be useful to integrate them with the rest of the Jupyter Widget ecosystem. Let's consider a ReactPy component that responds to and displays changes from an `ipywidgets.IntSlider`. The ReactPy component will need to accept an `IntSlider` instance as one of its arguments, declare state that will track the slider's value, and register a lister that will update that state via the slider's `IntSlider.observe()` method using an [\"effect\"](https://reactpy.dev/docs/reference/hooks-api.html#use-effect):"
   ]
  },
  {
   "cell_type": "code",
   "execution_count": null,
   "metadata": {
    "tags": []
   },
   "outputs": [],
   "source": [
    "from reactpy import use_effect\n",
    "\n",
    "\n",
    "@component\n",
    "def SliderObserver(slider):\n",
    "    value, set_value = use_state(0)\n",
    "\n",
    "    @use_effect\n",
    "    def register_observer():\n",
    "        def handle_change(change):\n",
    "            set_value(change[\"new\"])\n",
    "\n",
    "        # observe the slider's value\n",
    "        slider.observe(handle_change, \"value\")\n",
    "        # unobserve the slider's value if this component is no longer displayed\n",
    "        return lambda: slider.unobserve(handle_change, \"value\")\n",
    "\n",
    "    return html.p(f\"ReactPy observes the value to be: \", value)"
   ]
  },
  {
   "cell_type": "markdown",
   "metadata": {},
   "source": [
    "Now you'll need to display the `SliderObserver` component as well as an `IntSlider` widget. To do this, you'll want wrap the component in a `reactpy_jupyter.LayoutWidget` instance before using it alongside other Jupyter Widgets. Specifically, you'll be displaying the `SliderObserver` and `IntSlider` in a `Box`:\n"
   ]
  },
  {
   "cell_type": "code",
   "execution_count": null,
   "metadata": {
    "tags": []
   },
   "outputs": [],
   "source": [
    "from ipywidgets import Box, IntSlider\n",
    "from reactpy_jupyter import LayoutWidget\n",
    "\n",
    "slider = IntSlider(readout=False)\n",
    "slider_observer = LayoutWidget(SliderObserver(slider))\n",
    "\n",
    "Box([slider, slider_observer])"
   ]
  },
  {
   "cell_type": "markdown",
   "metadata": {},
   "source": [
    "If it becomes painful to wrap every ReactPy component in a `LayoutWidget` you can create an alternate `LayoutWidget` constructor using `reactpy_jupyter.widgetize`:"
   ]
  },
  {
   "cell_type": "code",
   "execution_count": null,
   "metadata": {
    "tags": []
   },
   "outputs": [],
   "source": [
    "from reactpy_jupyter import widgetize\n",
    "\n",
    "SliderObserverWidget = widgetize(SliderObserver)\n",
    "\n",
    "slider = IntSlider(readout=False)\n",
    "slider_observer = SliderObserverWidget(slider)\n",
    "\n",
    "Box([slider, slider_observer])"
   ]
  },
  {
   "cell_type": "markdown",
   "metadata": {},
   "source": [
    "It's worth noting that, while ReactPy can be used with Jupyter Widgets, the reverse is not true. That is, **you cannot use a Jupyter Widget inside a ReactPy component**. If this is a capability you would find useful, please [start a discussion](https://github.com/reactive-python/reactpy/discussions). The ReactPy team would be very interested to hear how allowing Jupyter Widgets to be used with ReactPy could facilitate your work."
   ]
  },
  {
   "cell_type": "markdown",
   "metadata": {},
   "source": [
    "# Javascript Integration\n",
    "\n",
    "While ReactPy is a great tool for displaying HTML and responding to browser events with pure Python, there are other projects which already allow you to do this inside Jupyter Notebooks or in standard web apps. The real power of ReactPy comes from its ability to seamlessly leverage the existing Javascript ecosystem:\n",
    "\n",
    "<a href=\"https://reactpy.dev/docs/guides/escape-hatches/javascript-components.html\" target=\"_blank\"><button>Read More!</button></a>"
   ]
  },
  {
   "cell_type": "code",
   "execution_count": null,
   "metadata": {
    "tags": []
   },
   "outputs": [],
   "source": [
    "from reactpy import component, web\n",
    "\n",
    "\n",
    "victory = web.module_from_template(\"react\", \"victory-bar\", fallback=\"⌛\")\n",
    "VictoryBar = web.export(victory, \"VictoryBar\")\n",
    "\n",
    "\n",
    "@component\n",
    "def Demo():\n",
    "    bar_style = {\"parent\": {\"width\": \"500px\"}, \"data\": {\"fill\": \"royalblue\"}}\n",
    "    return VictoryBar({\"style\": bar_style})\n",
    "\n",
    "\n",
    "Demo()"
   ]
  },
  {
   "cell_type": "markdown",
   "metadata": {},
   "source": [
    "# [Learn More!](https://reactpy.dev/docs/index.html)"
   ]
  },
  {
   "cell_type": "code",
   "execution_count": null,
   "metadata": {},
   "outputs": [],
   "source": []
  }
 ],
 "metadata": {
  "kernelspec": {
   "display_name": "Python 3 (ipykernel)",
   "language": "python",
   "name": "python3"
  },
  "language_info": {
   "codemirror_mode": {
    "name": "ipython",
    "version": 3
   },
   "file_extension": ".py",
   "mimetype": "text/x-python",
   "name": "python",
   "nbconvert_exporter": "python",
   "pygments_lexer": "ipython3",
   "version": "3.11.1"
  },
  "vscode": {
   "interpreter": {
    "hash": "52bee9646c8f5526f0e9a8eb5a97552aae62c8d54f85864da3e91d79a91aa9b6"
   }
  }
 },
 "nbformat": 4,
 "nbformat_minor": 4
}
